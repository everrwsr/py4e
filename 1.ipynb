{
 "cells": [
  {
   "cell_type": "code",
   "execution_count": 3,
   "metadata": {},
   "outputs": [
    {
     "name": "stdout",
     "output_type": "stream",
     "text": [
      "144 233 377 610 987 1597 2584 4181 6765 10946 17711 28657 46368 75025 "
     ]
    }
   ],
   "source": [
    "def fib_between(start , end):\n",
    "    a,b = 0,1\n",
    "    while (a <= end):\n",
    "        if (a>=start):\n",
    "            print(a,end=\" \")\n",
    "        a,b = b,a+b\n",
    "        \n",
    "fib_between(100,100000)"
   ]
  },
  {
   "cell_type": "code",
   "execution_count": 2,
   "metadata": {},
   "outputs": [
    {
     "name": "stdout",
     "output_type": "stream",
     "text": [
      "['From: Using the :']\n"
     ]
    }
   ],
   "source": [
    "import re\n",
    "x = 'From: Using the : character'\n",
    "y = re.findall('^F.+:', x)\n",
    "print(y)"
   ]
  },
  {
   "cell_type": "code",
   "execution_count": 3,
   "metadata": {},
   "outputs": [
    {
     "name": "stdout",
     "output_type": "stream",
     "text": [
      "Hi,('hanhan',)!\n"
     ]
    }
   ],
   "source": [
    "def say_hi(*names):\n",
    "    print(f'Hi, {names}!')\n",
    "    \n",
    "say_hi('hanhan')"
   ]
  },
  {
   "cell_type": "code",
   "execution_count": 1,
   "metadata": {},
   "outputs": [
    {
     "data": {
      "text/plain": [
       "9"
      ]
     },
     "execution_count": 1,
     "metadata": {},
     "output_type": "execute_result"
    }
   ],
   "source": [
    "add = lambda x,y:x+y\n",
    "\n",
    "add(3,6)"
   ]
  }
 ],
 "metadata": {
  "kernelspec": {
   "display_name": "Python 3.7.0 64-bit",
   "language": "python",
   "name": "python3"
  },
  "language_info": {
   "codemirror_mode": {
    "name": "ipython",
    "version": 3
   },
   "file_extension": ".py",
   "mimetype": "text/x-python",
   "name": "python",
   "nbconvert_exporter": "python",
   "pygments_lexer": "ipython3",
   "version": "3.7.0"
  },
  "orig_nbformat": 4,
  "vscode": {
   "interpreter": {
    "hash": "4fbd65714adbe9ae7c09a29fb81b105aca50e592eeb0c6f04e7ddb263f9ab8d6"
   }
  }
 },
 "nbformat": 4,
 "nbformat_minor": 2
}
