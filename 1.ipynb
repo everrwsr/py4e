{
 "cells": [
  {
   "cell_type": "code",
   "execution_count": null,
   "metadata": {},
   "outputs": [],
   "source": []
  }
 ],
 "metadata": {
  "kernelspec": {
   "display_name": "Python 3.7.5 64-bit",
   "language": "python",
   "name": "python3"
  },
  "language_info": {
   "name": "python",
   "version": "3.7.5"
  },
  "orig_nbformat": 4,
  "vscode": {
   "interpreter": {
    "hash": "7c9d4de4296d295a93012ccb3a84fcafce625381af91c1ba1022bbc435614940"
   }
  }
 },
 "nbformat": 4,
 "nbformat_minor": 2
}
